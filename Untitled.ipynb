{
 "cells": [
  {
   "cell_type": "code",
   "execution_count": 29,
   "id": "bfa9df96",
   "metadata": {},
   "outputs": [
    {
     "name": "stdout",
     "output_type": "stream",
     "text": [
      "\u001b[1mFayyaz Ahmed\u001b[0m\n",
      "fayyazkhatri3@gmail.com\n",
      "0313-2971292\n"
     ]
    }
   ],
   "source": [
    "print(\"\\033[1mFayyaz Ahmed\\033[0m\\nfayyazkhatri3@gmail.com\\n0313-2971292\");"
   ]
  },
  {
   "cell_type": "code",
   "execution_count": 8,
   "id": "e08943ce",
   "metadata": {},
   "outputs": [
    {
     "name": "stdout",
     "output_type": "stream",
     "text": [
      "Twinkle, twinkle, little star, \n",
      "\tHow I wonder what you are! \n",
      "\t\tUp above the world so high, \n",
      "\t\tLike a diamond in the sky. \n",
      "Twinkle, twinkle, little star, \n",
      "\tHow I wonder what you are!\n"
     ]
    }
   ],
   "source": [
    "#QUESTION NO. 1\n",
    "\n",
    "print(\"Twinkle, twinkle, little star, \\n\\tHow I wonder what you are! \\n\\t\\tUp above the world so high, \\n\\t\\tLike a diamond in the sky. \\nTwinkle, twinkle, little star, \\n\\tHow I wonder what you are!\")"
   ]
  },
  {
   "cell_type": "code",
   "execution_count": 10,
   "id": "54fd43f9",
   "metadata": {},
   "outputs": [
    {
     "name": "stdout",
     "output_type": "stream",
     "text": [
      "3.8.8 (default, Apr 13 2021, 15:08:03) [MSC v.1916 64 bit (AMD64)]\n"
     ]
    }
   ],
   "source": [
    "#QUESTION NO. 2\n",
    "import sys\n",
    "print (sys.version)"
   ]
  },
  {
   "cell_type": "code",
   "execution_count": 11,
   "id": "88562472",
   "metadata": {},
   "outputs": [
    {
     "name": "stdout",
     "output_type": "stream",
     "text": [
      "2021-10-23 11:44:02.259012\n"
     ]
    }
   ],
   "source": [
    "#QUESTION NO. 3\n",
    "import datetime\n",
    "now = datetime.datetime.now()\n",
    "print (now);\n"
   ]
  },
  {
   "cell_type": "code",
   "execution_count": 12,
   "id": "add473e7",
   "metadata": {},
   "outputs": [
    {
     "name": "stdout",
     "output_type": "stream",
     "text": [
      "Input the radius of the circle : 4\n",
      "The area of the circle with radius 4.0 is: 50.26548245743669\n"
     ]
    }
   ],
   "source": [
    "#QUESTION NO. 4 copied\n",
    "from math import pi\n",
    "r = float(input (\"Input the radius of the circle : \"))\n",
    "print (\"The area of the circle with radius \" + str(r) + \" is: \" + str(pi * r**2))\n"
   ]
  },
  {
   "cell_type": "code",
   "execution_count": 14,
   "id": "3fb9948e",
   "metadata": {},
   "outputs": [
    {
     "name": "stdout",
     "output_type": "stream",
     "text": [
      "fayyaz\n",
      "ahmed\n",
      "ahmed fayyaz\n"
     ]
    }
   ],
   "source": [
    "#QUESTION NO. 5\n",
    "firstName = input()\n",
    "lastName = input()\n",
    "print (lastName + \" \" + firstName)"
   ]
  },
  {
   "cell_type": "code",
   "execution_count": 20,
   "id": "b46be09a",
   "metadata": {},
   "outputs": [
    {
     "name": "stdout",
     "output_type": "stream",
     "text": [
      "5\n",
      "5\n",
      "sum of both input numbers is : 10\n"
     ]
    }
   ],
   "source": [
    "#QUESTION NO. 6\n",
    "\n",
    "a = int(input())\n",
    "b = int(input())\n",
    "\n",
    "total = a+b\n",
    "\n",
    "print (\"sum of both input numbers is :\" ,total)"
   ]
  },
  {
   "cell_type": "code",
   "execution_count": 22,
   "id": "5b55db18",
   "metadata": {},
   "outputs": [
    {
     "name": "stdout",
     "output_type": "stream",
     "text": [
      "89\n",
      "Grade in English : A+\n",
      "90\n",
      "Grade in Math : A+\n",
      "77\n",
      "Grade in ISL A\n",
      "Total marks =  256 out of 300\n",
      "Average marks =  85.33333333333333\n",
      "Percentage =  85.33333333333334\n"
     ]
    }
   ],
   "source": [
    "#QUESTION NO. 7\n",
    "english = int(input())\n",
    "if english < 100 and english > 80:\n",
    "    print (\"Grade in English : A+\")\n",
    "elif english < 80 and english > 70:\n",
    "    print (\"Grade in English : A\")\n",
    "else :\n",
    "    print (\"Fail\")\n",
    "    \n",
    "math = int(input())\n",
    "if math < 100 and math > 80:\n",
    "    print (\"Grade in Math : A+\")\n",
    "elif math < 80 and math > 70:\n",
    "    print (\"Grade in Math A\")\n",
    "else :\n",
    "    print (\"Fail\")   \n",
    "\n",
    "isl = int(input())\n",
    "if isl < 100 and isl > 80:\n",
    "    print (\"Grade in ISL : A+\")\n",
    "elif isl < 80 and isl > 70:\n",
    "    print (\"Grade in ISL A\")\n",
    "else :\n",
    "    print (\"Fail\")\n",
    "    \n",
    "\n",
    "total = english + math + isl;\n",
    "average = total/3.0;\n",
    "percentage = (total / 300.0) * 100;\n",
    "\n",
    "\n",
    "print(\"Total marks = \", total , \"out of 300\") \n",
    "print(\"Average marks = \", average)\n",
    "print(\"Percentage = \", percentage)    \n",
    " "
   ]
  },
  {
   "cell_type": "code",
   "execution_count": 25,
   "id": "54d08a30",
   "metadata": {},
   "outputs": [
    {
     "name": "stdout",
     "output_type": "stream",
     "text": [
      "Enter a number: 5\n",
      "This is an odd number.\n"
     ]
    }
   ],
   "source": [
    "#QUESTION NO. 8\n",
    "num = int(input(\"Enter a number: \"))\n",
    "mod = num % 2\n",
    "if mod > 0:\n",
    "    print(\"This is an odd number.\")\n",
    "else:\n",
    "    print(\"This is an even number.\")"
   ]
  },
  {
   "cell_type": "code",
   "execution_count": 27,
   "id": "7fec5939",
   "metadata": {},
   "outputs": [
    {
     "name": "stdout",
     "output_type": "stream",
     "text": [
      "3\n"
     ]
    }
   ],
   "source": [
    "#QUESTION NO. 9\n",
    "\n",
    "l = [\"karachi\" , \"Islamabad\" , \"lahore\"]\n",
    "lenght = len(l);\n",
    "print (lenght);\n"
   ]
  },
  {
   "cell_type": "code",
   "execution_count": 28,
   "id": "25676094",
   "metadata": {},
   "outputs": [
    {
     "name": "stdout",
     "output_type": "stream",
     "text": [
      "232\n"
     ]
    }
   ],
   "source": [
    "#QUESTION NO. 10\n",
    "a = [1, 1, 2, 3, 5, 8, 13, 21, 34, 55, 89]\n",
    "print (sum(a));"
   ]
  },
  {
   "cell_type": "code",
   "execution_count": 32,
   "id": "38703e96",
   "metadata": {},
   "outputs": [
    {
     "name": "stdout",
     "output_type": "stream",
     "text": [
      "89\n"
     ]
    }
   ],
   "source": [
    "#QUESTION NO. 11\n",
    "a = [1, 1, 2, 3, 5, 8, 13, 21, 34, 55, 89]\n",
    "a.sort();\n",
    "print (a[-1]);\n"
   ]
  },
  {
   "cell_type": "code",
   "execution_count": 33,
   "id": "0d3d82dd",
   "metadata": {},
   "outputs": [
    {
     "name": "stdout",
     "output_type": "stream",
     "text": [
      "1\n",
      "1\n",
      "2\n",
      "3\n"
     ]
    }
   ],
   "source": [
    "#QUESTION NO. 12\n",
    "a = [1, 1, 2, 3, 5, 8, 13, 21, 34, 55, 89]\n",
    "for i in a:\n",
    "    if i < 5:\n",
    "        print(i)"
   ]
  },
  {
   "cell_type": "code",
   "execution_count": null,
   "id": "7b26576b",
   "metadata": {},
   "outputs": [],
   "source": []
  }
 ],
 "metadata": {
  "kernelspec": {
   "display_name": "Python 3",
   "language": "python",
   "name": "python3"
  },
  "language_info": {
   "codemirror_mode": {
    "name": "ipython",
    "version": 3
   },
   "file_extension": ".py",
   "mimetype": "text/x-python",
   "name": "python",
   "nbconvert_exporter": "python",
   "pygments_lexer": "ipython3",
   "version": "3.8.8"
  }
 },
 "nbformat": 4,
 "nbformat_minor": 5
}
